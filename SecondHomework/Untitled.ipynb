{
 "cells": [
  {
   "cell_type": "code",
   "execution_count": 2,
   "metadata": {},
   "outputs": [
    {
     "name": "stdout",
     "output_type": "stream",
     "text": [
      "Collecting pysam\n",
      "  Downloading pysam-0.16.0.1-cp38-cp38-manylinux1_x86_64.whl (10.2 MB)\n",
      "\u001b[K     |████████████████████████████████| 10.2 MB 14.8 MB/s eta 0:00:01\n",
      "\u001b[?25hInstalling collected packages: pysam\n",
      "Successfully installed pysam-0.16.0.1\n",
      "Note: you may need to restart the kernel to use updated packages.\n"
     ]
    }
   ],
   "source": [
    "pip install pysam\n"
   ]
  },
  {
   "cell_type": "code",
   "execution_count": 8,
   "metadata": {},
   "outputs": [
    {
     "name": "stdout",
     "output_type": "stream",
     "text": [
      "Fields: \n",
      "['__class__', '__copy__', '__deepcopy__', '__delattr__', '__dir__', '__doc__', '__eq__', '__format__', '__ge__', '__getattribute__', '__gt__', '__hash__', '__init__', '__init_subclass__', '__le__', '__lt__', '__ne__', '__new__', '__pyx_vtable__', '__reduce__', '__reduce_ex__', '__repr__', '__setattr__', '__setstate__', '__sizeof__', '__str__', '__subclasshook__', 'aend', 'alen', 'aligned_pairs', 'bin', 'blocks', 'cigar', 'cigarstring', 'cigartuples', 'compare', 'flag', 'from_dict', 'fromstring', 'get_aligned_pairs', 'get_blocks', 'get_cigar_stats', 'get_forward_qualities', 'get_forward_sequence', 'get_overlap', 'get_reference_positions', 'get_reference_sequence', 'get_tag', 'get_tags', 'has_tag', 'header', 'infer_query_length', 'infer_read_length', 'inferred_length', 'is_duplicate', 'is_paired', 'is_proper_pair', 'is_qcfail', 'is_read1', 'is_read2', 'is_reverse', 'is_secondary', 'is_supplementary', 'is_unmapped', 'isize', 'mapping_quality', 'mapq', 'mate_is_reverse', 'mate_is_unmapped', 'mpos', 'mrnm', 'next_reference_id', 'next_reference_name', 'next_reference_start', 'opt', 'overlap', 'pnext', 'pos', 'positions', 'qend', 'qlen', 'qname', 'qqual', 'qstart', 'qual', 'query', 'query_alignment_end', 'query_alignment_length', 'query_alignment_qualities', 'query_alignment_sequence', 'query_alignment_start', 'query_length', 'query_name', 'query_qualities', 'query_sequence', 'reference_end', 'reference_id', 'reference_length', 'reference_name', 'reference_start', 'rlen', 'rname', 'rnext', 'seq', 'setTag', 'set_tag', 'set_tags', 'tags', 'template_length', 'tid', 'tlen', 'to_dict', 'to_string', 'tostring']\n",
      "Query name: \n",
      "C0HVYACXX120402:7:1207:5722:57044\n",
      "Query sequence: \n",
      "TTTTCAAACAGTATCTATGCCTGCCAAATGTGAACATATAAAAAAAAACCAGAATGTGCCATTCTGATTTAAACTG\n",
      "Flag: \n",
      "1187\n",
      "Reference id: \n",
      "20\n",
      "Reference start: \n",
      "9483248\n",
      "Mapping quality: \n",
      "27\n",
      "Cigar: \n",
      "[(0, 76)]\n",
      "Next reference id: \n",
      "20\n",
      "Next reference start: \n",
      "9483381\n",
      "Template length: \n",
      "209\n",
      "Query qualities: \n",
      "array('B', [28, 28, 27, 29, 31, 30, 31, 31, 29, 31, 35, 30, 29, 31, 34, 30, 29, 23, 41, 32, 20, 30, 29, 34, 34, 29, 30, 31, 30, 30, 30, 33, 33, 26, 39, 12, 25, 19, 32, 30, 35, 28, 35, 33, 23, 33, 35, 36, 30, 38, 33, 41, 34, 35, 31, 33, 23, 30, 30, 36, 27, 32, 29, 34, 35, 41, 33, 31, 33, 29, 32, 32, 31, 31, 31, 34])\n",
      "Tags: \n",
      "[('XA', 'GL000217.1,-110754,76M,1;'), ('BD', 'NNNNNNNNNNNNNNNNNNNNNNNNNNNNNNNNNNNNNNNNNNNNNNNNNNNNNNNNNNNNNNNNNNNNNNNNNNNN'), ('MD', '76'), ('RG', '1'), ('BI', 'NNNNNNNNNNNNNNNNNNNNNNNNNNNNNNNNNNNNNNNNNNNNNNNNNNNNNNNNNNNNNNNNNNNNNNNNNNNN'), ('NM', 0), ('MQ', 27), ('AS', 76), ('XS', 71)]\n",
      "Is unmapped: \n",
      "False\n"
     ]
    }
   ],
   "source": [
    "import pysam;\n",
    "import sys;\n",
    "\n",
    "\n",
    "alignmentFile = pysam.AlignmentFile(\"merged-tumor.bam\");\n",
    "\n",
    "\n",
    "i=0;\n",
    "for read in alignmentFile :\n",
    "   if i==0 :\n",
    "       break;\n",
    "   \n",
    "print(\"Fields: \")\n",
    "print(dir(read))\n",
    "\n",
    "print(\"Query name: \")\n",
    "print(read.query_name)\n",
    "\n",
    "print(\"Query sequence: \")\n",
    "print(read.query_sequence)\n",
    "\n",
    "#The first one has flag 27 and it means it is: \n",
    "#    read paired (0x1)\n",
    "#    read mapped in proper pair (0x2)\n",
    "#    mate reverse strand (0x20)\n",
    "#    second in pair (0x80)\n",
    "#    read is PCR or optical duplicate (0x400)\n",
    "print(\"Flag: \")\n",
    "print(read.flag)\n",
    "\n",
    "print(\"Reference id: \")\n",
    "print(read.reference_id)\n",
    "\n",
    "print(\"Reference start: \")\n",
    "print(read.reference_start)\n",
    "\n",
    "print(\"Mapping quality: \")\n",
    "print(read.mapping_quality)\n",
    "\n",
    "print(\"Cigar: \")\n",
    "print(read.cigar)\n",
    "\n",
    "print(\"Next reference id: \")\n",
    "print(read.next_reference_id )\n",
    "\n",
    "print(\"Next reference start: \")\n",
    "print(read.next_reference_start)\n",
    "\n",
    "print(\"Template length: \")\n",
    "print(read.template_length)\n",
    "\n",
    "print(\"Query qualities: \")\n",
    "print(read.query_qualities)\n",
    "\n",
    "print(\"Tags: \")\n",
    "print(read.tags)\n",
    "\n",
    "print(\"Is unmapped: \")\n",
    "print(read.is_unmapped)\n"
   ]
  },
  {
   "cell_type": "code",
   "execution_count": 7,
   "metadata": {},
   "outputs": [
    {
     "name": "stdout",
     "output_type": "stream",
     "text": [
      "The number of unmapped reads is: \n",
      "17765\n",
      "The total number of reads is: \n",
      "2921629\n",
      "The number of reads with zero mapping quality is: \n",
      "126628\n",
      "The average mapping quality for all the reads is: \n",
      "55.91379158681681\n",
      "The average mapping quality for the reads with mapping_quality > 0 is: \n",
      "58.446975510921106\n"
     ]
    }
   ],
   "source": [
    "import pysam;\n",
    "import sys;\n",
    "\n",
    "\n",
    "alignmentFile = pysam.AlignmentFile(\"merged-tumor.bam\");\n",
    "\n",
    "\n",
    "count = 0;\n",
    "totalCount = 0;\n",
    "zeroMappingQualityCount = 0;\n",
    "totalMappingQuality = 0;\n",
    "averageMappingQuality = 0;\n",
    "filteredAverageMappingQuality = 0;\n",
    "for read in alignmentFile :\n",
    "    totalCount = totalCount + 1;\n",
    "    totalMappingQuality = totalMappingQuality + read.mapping_quality;\n",
    "    if read.is_unmapped :\n",
    "       count = count + 1;\n",
    "    if read.mapping_quality == 0:\n",
    "        zeroMappingQualityCount = zeroMappingQualityCount + 1;\n",
    "\n",
    "if totalCount > 0:\n",
    "    averageMappingQuality = totalMappingQuality / totalCount;\n",
    "\n",
    "if totalCount - zeroMappingQualityCount > 0:\n",
    "    filteredAverageMappingQuality = totalMappingQuality / (totalCount - zeroMappingQualityCount);\n",
    "    \n",
    "print(\"The number of unmapped reads is: \")\n",
    "print(count)\n",
    "\n",
    "print(\"The total number of reads is: \")\n",
    "print(totalCount)\n",
    "\n",
    "print(\"The number of reads with zero mapping quality is: \")\n",
    "print(zeroMappingQualityCount)\n",
    "\n",
    "print(\"The average mapping quality for all the reads is: \")\n",
    "print(averageMappingQuality)\n",
    "\n",
    "print(\"The average mapping quality for the reads with mapping_quality > 0 is: \")\n",
    "print(filteredAverageMappingQuality)"
   ]
  },
  {
   "cell_type": "code",
   "execution_count": null,
   "metadata": {},
   "outputs": [],
   "source": []
  }
 ],
 "metadata": {
  "kernelspec": {
   "display_name": "Python 3",
   "language": "python",
   "name": "python3"
  },
  "language_info": {
   "codemirror_mode": {
    "name": "ipython",
    "version": 3
   },
   "file_extension": ".py",
   "mimetype": "text/x-python",
   "name": "python",
   "nbconvert_exporter": "python",
   "pygments_lexer": "ipython3",
   "version": "3.8.3"
  }
 },
 "nbformat": 4,
 "nbformat_minor": 4
}
